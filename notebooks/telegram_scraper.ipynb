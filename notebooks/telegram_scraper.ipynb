{
 "cells": [
  {
   "cell_type": "code",
   "execution_count": 1,
   "metadata": {},
   "outputs": [],
   "source": [
    "import pandas as pd\n",
    "import sys\n",
    "import os\n",
    "\n",
    "# Add the scripts directory to the Python path\n",
    "sys.path.append(os.path.abspath('../scripts'))"
   ]
  },
  {
   "cell_type": "code",
   "execution_count": 2,
   "metadata": {},
   "outputs": [
    {
     "name": "stdout",
     "output_type": "stream",
     "text": [
      "Old messages scraped and saved!\n",
      "Listening for real-time messages in ZemenExpress...\n"
     ]
    }
   ],
   "source": [
    "\n",
    "import nest_asyncio\n",
    "from telethon.sync import TelegramClient, events\n",
    "from telegram_scraper import create_telegram_client, scrape_telegram_messages  # Your scraper module\n",
    "\n",
    "nest_asyncio.apply()\n",
    "\n",
    "# Define your API credentials\n",
    "api_id = '27914233'  # Replace with your API ID\n",
    "api_hash = '57b3c112ce2bf9b13ec5a2190bff350a'  # Replace with your API Hash\n",
    "phone = '+251966405464'  # Your phone number registered with Telegram\n",
    "channel_username = 'ZemenExpress'  # Your Telegram channel username\n",
    "\n",
    "# Initialize the Telegram client\n",
    "client = TelegramClient('session_name', api_id, api_hash)\n",
    "\n",
    "# Function to save real-time messages (text, images, documents)\n",
    "async def save_real_time_message(message):\n",
    "    SAVE_DIR = 'telegram_data/'\n",
    "    if not os.path.exists(SAVE_DIR):\n",
    "        os.makedirs(SAVE_DIR)\n",
    "\n",
    "    if message.text:\n",
    "        print(f\"Text message: {message.text}\")\n",
    "        with open(f'{SAVE_DIR}/messages.txt', 'a', encoding='utf-8') as f:\n",
    "            f.write(f'{message.date}: {message.text}\\n')\n",
    "\n",
    "    if message.photo:\n",
    "        photo_path = await message.download_media(file=f'{SAVE_DIR}/photos/')\n",
    "        print(f\"Photo saved: {photo_path}\")\n",
    "    \n",
    "    if message.document:\n",
    "        document_path = await message.download_media(file=f'{SAVE_DIR}/documents/')\n",
    "        print(f\"Document saved: {document_path}\")\n",
    "\n",
    "# Real-time message event listener\n",
    "@client.on(events.NewMessage(chats=channel_username))\n",
    "async def real_time_message_handler(event):\n",
    "    print(f\"New message received in {channel_username}:\")\n",
    "    await save_real_time_message(event.message)\n",
    "\n",
    "# Function to scrape old messages and listen for real-time messages\n",
    "async def run_scraper():\n",
    "    # Initialize the Telegram client\n",
    "    client = await create_telegram_client(api_id, api_hash, phone)\n",
    "    \n",
    "    # Scrape old messages\n",
    "    df = await scrape_telegram_messages(client, channel_username, limit=100)\n",
    "    df.to_csv(f'{channel_username}_old_messages.csv', index=False)\n",
    "    print(\"Old messages scraped and saved!\")\n",
    "    \n",
    "    # Start real-time message listening\n",
    "    print(f\"Listening for real-time messages in {channel_username}...\")\n",
    "    await client.run_until_disconnected()\n",
    "\n",
    "# Run the async function to scrape old and real-time messages\n",
    "await run_scraper()\n"
   ]
  }
 ],
 "metadata": {
  "kernelspec": {
   "display_name": "venv",
   "language": "python",
   "name": "python3"
  },
  "language_info": {
   "codemirror_mode": {
    "name": "ipython",
    "version": 3
   },
   "file_extension": ".py",
   "mimetype": "text/x-python",
   "name": "python",
   "nbconvert_exporter": "python",
   "pygments_lexer": "ipython3",
   "version": "3.11.9"
  }
 },
 "nbformat": 4,
 "nbformat_minor": 2
}
